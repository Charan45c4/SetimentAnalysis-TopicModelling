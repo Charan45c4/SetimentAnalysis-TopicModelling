{
 "cells": [
  {
   "cell_type": "code",
   "execution_count": 1,
   "id": "bc3edfb9-69e8-45f9-8445-c98f24eb0df4",
   "metadata": {},
   "outputs": [],
   "source": [
    "import pandas as pd\n",
    "import nltk\n",
    "from nltk.corpus import stopwords\n",
    "from nltk.tokenize import word_tokenize\n",
    "from textblob import TextBlob\n",
    "from nltk.sentiment.vader import SentimentIntensityAnalyzer\n",
    "import matplotlib.pyplot as plt"
   ]
  },
  {
   "cell_type": "code",
   "execution_count": 2,
   "id": "55ecb1ca-bdd0-47dc-a150-8a1544624998",
   "metadata": {},
   "outputs": [
    {
     "name": "stderr",
     "output_type": "stream",
     "text": [
      "[nltk_data] Downloading package vader_lexicon to\n",
      "[nltk_data]     C:\\Users\\Charan\\AppData\\Roaming\\nltk_data...\n",
      "[nltk_data]   Package vader_lexicon is already up-to-date!\n",
      "[nltk_data] Downloading package punkt to\n",
      "[nltk_data]     C:\\Users\\Charan\\AppData\\Roaming\\nltk_data...\n",
      "[nltk_data]   Package punkt is already up-to-date!\n",
      "[nltk_data] Downloading package stopwords to\n",
      "[nltk_data]     C:\\Users\\Charan\\AppData\\Roaming\\nltk_data...\n",
      "[nltk_data]   Package stopwords is already up-to-date!\n"
     ]
    },
    {
     "data": {
      "text/plain": [
       "True"
      ]
     },
     "execution_count": 2,
     "metadata": {},
     "output_type": "execute_result"
    }
   ],
   "source": [
    "nltk.download('vader_lexicon')\n",
    "nltk.download('punkt')\n",
    "nltk.download('stopwords')"
   ]
  },
  {
   "cell_type": "code",
   "execution_count": 7,
   "id": "e903c602-1547-464c-9651-6eb83f939e4b",
   "metadata": {},
   "outputs": [],
   "source": [
    "df=pd.read_csv('Cleanedfile.csv')\n",
    "df.head\n",
    "documents=df['cleaned'].dropna().tolist()"
   ]
  },
  {
   "cell_type": "code",
   "execution_count": 8,
   "id": "4999131f-cb7a-4b2a-a30f-488cb2887be7",
   "metadata": {},
   "outputs": [],
   "source": [
    "def preprocess(text):\n",
    "    tokens=word_tokenize(text.lower())\n",
    "    stop_words=set(nltk.corpus.stopwords.words('english'))\n",
    "    tokens=[word for word in tokens if word not in stop_words and word.isalpha()]\n",
    "    return \" \".join(tokens)"
   ]
  },
  {
   "cell_type": "code",
   "execution_count": 9,
   "id": "c9c3ffc9-9bad-4e8c-b311-eb0d969ac245",
   "metadata": {},
   "outputs": [],
   "source": [
    "processed_docs=[preprocess(doc) for doc in documents]"
   ]
  },
  {
   "cell_type": "code",
   "execution_count": 10,
   "id": "74a9e545-5d28-4e6a-a5f5-cbe9fc47266f",
   "metadata": {},
   "outputs": [],
   "source": [
    "sia=SentimentIntensityAnalyzer()\n",
    "def sentiment_vader(text):\n",
    "    return sia.polarity_scores(text)['compound']"
   ]
  },
  {
   "cell_type": "code",
   "execution_count": 11,
   "id": "ec87d128-af2d-4133-82a2-c10fa1889085",
   "metadata": {},
   "outputs": [],
   "source": [
    "vader_sentiments=[sentiment_vader(doc) for doc in processed_docs]"
   ]
  },
  {
   "cell_type": "code",
   "execution_count": 12,
   "id": "74be2c6c-83bf-4b2f-9626-9f691b92b7e3",
   "metadata": {},
   "outputs": [
    {
     "data": {
      "text/plain": [
       "<bound method NDFrame.head of      Unnamed: 0                                            reviews  \\\n",
       "0             0  ✅ Trip Verified |   Flight mainly let down by ...   \n",
       "1             1  ✅ Trip Verified |   Another awful experience b...   \n",
       "2             2  ✅ Trip Verified |   The service was rude, full...   \n",
       "3             3  ✅ Trip Verified |   This flight was a joke. Th...   \n",
       "4             4  ✅ Trip Verified |   This time British Airways ...   \n",
       "..          ...                                                ...   \n",
       "995         995  ✅ Trip Verified | Mahe to Stockholm via London...   \n",
       "996         996  ✅ Trip Verified |  Glasgow to Tampa via Gatwic...   \n",
       "997         997  Not Verified |  Orlando to Gatwick. Travelling...   \n",
       "998         998  ✅ Trip Verified |  London to Abu Dhabi. This i...   \n",
       "999         999  ✅ Trip Verified |  London to St Petersburgh. H...   \n",
       "\n",
       "                                               cleaned  vader_sentiment  \n",
       "0    trip verified flight mainly let disagreeable f...           0.8225  \n",
       "1    trip verified another awful experience british...          -0.8126  \n",
       "2    trip verified service rude full attitude food ...          -0.4588  \n",
       "3    trip verified flight joke four people business...           0.0000  \n",
       "4    trip verified time british airway managed get ...           0.9831  \n",
       "..                                                 ...              ...  \n",
       "995  trip verified mahe stockholm via london checke...          -0.7928  \n",
       "996  trip verified glasgow tampa via gatwick early ...           0.9628  \n",
       "997  verified orlando gatwick travelling home extre...          -0.8576  \n",
       "998  trip verified london abu dhabi daytime flight ...           0.9727  \n",
       "999  trip verified london st petersburgh huge disap...          -0.6124  \n",
       "\n",
       "[1000 rows x 4 columns]>"
      ]
     },
     "execution_count": 12,
     "metadata": {},
     "output_type": "execute_result"
    }
   ],
   "source": [
    "df['vader_sentiment']=vader_sentiments\n",
    "df.head"
   ]
  },
  {
   "cell_type": "code",
   "execution_count": 13,
   "id": "d061ae57-3f36-467e-a394-62c004c69757",
   "metadata": {},
   "outputs": [
    {
     "data": {
      "text/plain": [
       "<Figure size 800x600 with 0 Axes>"
      ]
     },
     "execution_count": 13,
     "metadata": {},
     "output_type": "execute_result"
    },
    {
     "data": {
      "text/plain": [
       "<Figure size 800x600 with 0 Axes>"
      ]
     },
     "metadata": {},
     "output_type": "display_data"
    }
   ],
   "source": [
    "plt.figure(figsize=(8,6))"
   ]
  },
  {
   "cell_type": "code",
   "execution_count": 14,
   "id": "0a2d7d17-626b-484e-8106-35830ced4397",
   "metadata": {},
   "outputs": [
    {
     "data": {
      "text/plain": [
       "Text(0, 0.5, 'Frequency')"
      ]
     },
     "execution_count": 14,
     "metadata": {},
     "output_type": "execute_result"
    },
    {
     "data": {
      "image/png": "[encoded data removed]",
      "text/plain": [
       "<Figure size 640x480 with 1 Axes>"
      ]
     },
     "metadata": {},
     "output_type": "display_data"
    }
   ],
   "source": [
    "plt.hist(df['vader_sentiment'],bins=20,color='salmon',edgecolor='black')\n",
    "plt.title(\"Sentiment Distribution (VADER)\")\n",
    "plt.xlabel(\"Sentiment Polarity\")\n",
    "plt.ylabel(\"Frequency\")"
   ]
  },
  {
   "cell_type": "code",
   "execution_count": null,
   "id": "c9e31dc5-41ae-4a0d-b748-2b57f5af0151",
   "metadata": {},
   "outputs": [],
   "source": []
  }
 ],
 "metadata": {
  "kernelspec": {
   "display_name": "Python 3 (ipykernel)",
   "language": "python",
   "name": "python3"
  },
  "language_info": {
   "codemirror_mode": {
    "name": "ipython",
    "version": 3
   },
   "file_extension": ".py",
   "mimetype": "text/x-python",
   "name": "python",
   "nbconvert_exporter": "python",
   "pygments_lexer": "ipython3",
   "version": "3.10.8"
  }
 },
 "nbformat": 4,
 "nbformat_minor": 5
}
